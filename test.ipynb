{
 "metadata": {
  "language_info": {
   "codemirror_mode": {
    "name": "ipython",
    "version": 3
   },
   "file_extension": ".py",
   "mimetype": "text/x-python",
   "name": "python",
   "nbconvert_exporter": "python",
   "pygments_lexer": "ipython3",
   "version": 3
  },
  "orig_nbformat": 2,
  "kernelspec": {
   "name": "python_defaultSpec_1595684959134",
   "display_name": "Python 3.7.4 64-bit ('base': conda)"
  }
 },
 "nbformat": 4,
 "nbformat_minor": 2,
 "cells": [
  {
   "cell_type": "markdown",
   "metadata": {},
   "source": [
    "# Importing libraries"
   ]
  },
  {
   "cell_type": "code",
   "execution_count": null,
   "metadata": {},
   "outputs": [],
   "source": [
    "# pip install --upgrade \"ibm-watson>=4.0.1\""
   ]
  },
  {
   "cell_type": "code",
   "execution_count": null,
   "metadata": {},
   "outputs": [],
   "source": [
    "import json\n",
    "from ibm_watson import VisualRecognitionV3\n",
    "from ibm_cloud_sdk_core.authenticators import IAMAuthenticator"
   ]
  },
  {
   "cell_type": "markdown",
   "metadata": {},
   "source": [
    "# Passing API KEY and URL to the Visual Recognition"
   ]
  },
  {
   "cell_type": "code",
   "execution_count": 4,
   "metadata": {},
   "outputs": [],
   "source": [
    "authenticator = IAMAuthenticator('ucOQSB8NlmiBmYcov75r-uvpFDQs8HcFH5BzrR-d71ws')\n",
    "\n",
    "visual_recognition = VisualRecognitionV3(\n",
    "    version='2018-03-19',\n",
    "    authenticator=authenticator)\n",
    "\n",
    "visual_recognition.set_service_url('https://api.us-south.visual-recognition.watson.cloud.ibm.com/instances/83a8725c-1263-4e39-a1e6-0541f4de6932') "
   ]
  },
  {
   "cell_type": "markdown",
   "metadata": {},
   "source": [
    "# Running the Visual Recognition on test.img file"
   ]
  },
  {
   "cell_type": "code",
   "execution_count": 14,
   "metadata": {
    "tags": []
   },
   "outputs": [],
   "source": [
    "with open('./test.jpg', 'rb') as images_file: \n",
    "    classes = visual_recognition.classify(images_file=images_file,threshold='0.6',classifier_ids='food').get_result()\n",
    "\n",
    "#print(json.dumps(classes, indent=2))\t"
   ]
  },
  {
   "cell_type": "markdown",
   "metadata": {},
   "source": [
    "# Parsing JSON"
   ]
  },
  {
   "cell_type": "code",
   "execution_count": 15,
   "metadata": {
    "tags": []
   },
   "outputs": [
    {
     "output_type": "stream",
     "name": "stdout",
     "text": "pizza\n"
    }
   ],
   "source": [
    "output_query = classes['images'][0]['classifiers'][0]['classes'][1]['class']\n",
    "print(output_query)"
   ]
  },
  {
   "cell_type": "markdown",
   "metadata": {},
   "source": [
    "# Passing 'pizza' to the HERE APIs using Python Flask"
   ]
  },
  {
   "cell_type": "code",
   "execution_count": 21,
   "metadata": {},
   "outputs": [],
   "source": [
    "import requests\n",
    "from flask import Flask,render_template\n",
    "URL = \"https://discover.search.hereapi.com/v1/discover\"\n",
    "latitude = 12.959111\n",
    "longitude = 77.732022\n",
    "api_key = 'eJtOWcz0rG2MovFXxmEZOBji86azNK035at5rNDx5xg' # Acquire from developer.here.com\n",
    "limit = 5"
   ]
  },
  {
   "cell_type": "markdown",
   "metadata": {},
   "source": [
    "# Parameters for Geocoding and Search APIs Discover endpoint"
   ]
  },
  {
   "cell_type": "code",
   "execution_count": 22,
   "metadata": {},
   "outputs": [],
   "source": [
    "PARAMS = {\n",
    "            'apikey':api_key,\n",
    "            'q':'burger',\n",
    "            'limit': limit,\n",
    "            'at':'{},{}'.format(latitude,longitude)\n",
    "         } "
   ]
  },
  {
   "cell_type": "code",
   "execution_count": null,
   "metadata": {},
   "outputs": [],
   "source": [
    "# Sending get request and saving the response as response object "
   ]
  },
  {
   "cell_type": "code",
   "execution_count": 23,
   "metadata": {
    "tags": []
   },
   "outputs": [
    {
     "output_type": "stream",
     "name": "stdout",
     "text": "{'items': [{'title': '103 Burger Cross', 'id': 'here:pds:place:356tdr3b-f5d2a1f8227f4ccf99c7c5aceacce530', 'resultType': 'place', 'address': {'label': '103 Burger Cross, Kundalahalli, Bengaluru 560066, India', 'countryCode': 'IND', 'countryName': 'India', 'state': 'Karnataka', 'county': 'Bengaluru', 'city': 'Bengaluru', 'district': 'Kundalahalli', 'postalCode': '560066'}, 'position': {'lat': 12.96797, 'lng': 77.71896}, 'access': [{'lat': 12.96795, 'lng': 77.71899}], 'distance': 1724, 'categories': [{'id': '100-1000-0000', 'name': 'Ресторани', 'primary': True}], 'foodTypes': [{'id': '800-067', 'name': 'Бюргери', 'primary': True}], 'contacts': [{'phone': [{'value': '+919538777103'}], 'www': [{'value': 'http://103burgercross.in'}]}]}, {'title': 'Biggies Burger N More', 'id': 'here:pds:place:356tdr3b-447c157d2ed648c8add8d4e785c53b22', 'resultType': 'place', 'address': {'label': 'Biggies Burger N More, 60 Feet Main Road, Aecs Layout-C Block, Kundalahalli, Bengaluru 560037, India', 'countryCode': 'IND', 'countryName': 'India', 'state': 'Karnataka', 'county': 'Bengaluru', 'city': 'Bengaluru', 'district': 'Kundalahalli', 'subdistrict': 'Aecs Layout-C Block', 'street': '60 Feet Main Road', 'postalCode': '560037'}, 'position': {'lat': 12.96398, 'lng': 77.7125}, 'access': [{'lat': 12.964, 'lng': 77.71249}], 'distance': 2183, 'categories': [{'id': '100-1000-0009', 'name': 'Заклад швидкого харчування', 'primary': True}]}, {'title': 'BURGER KING', 'id': 'here:pds:place:356tdr3b-784f2bb081b24fd3aec1e504f2fea188', 'resultType': 'place', 'address': {'label': 'BURGER KING, White Field, Bengaluru 560066, India', 'countryCode': 'IND', 'countryName': 'India', 'state': 'Karnataka', 'county': 'Bengaluru', 'city': 'Bengaluru', 'district': 'White Field', 'postalCode': '560066'}, 'position': {'lat': 12.98907, 'lng': 77.72727}, 'access': [{'lat': 12.98907, 'lng': 77.7273}], 'distance': 3371, 'categories': [{'id': '100-1000-0000', 'name': 'Ресторани', 'primary': True}, {'id': '100-1000-0009', 'name': 'Заклад швидкого харчування'}], 'chains': [{'id': '1498'}], 'references': [{'supplier': {'id': 'core'}, 'id': '1210571438'}], 'foodTypes': [{'id': '800-067', 'name': 'Бюргери', 'primary': True}]}, {'title': 'Inhouse Burger', 'id': 'here:pds:place:356tdr3b-74fa1023feea4d579781171a7c53dd44', 'resultType': 'place', 'address': {'label': 'Inhouse Burger, White Field, Bengaluru 560066, India', 'countryCode': 'IND', 'countryName': 'India', 'state': 'Karnataka', 'county': 'Bengaluru', 'city': 'Bengaluru', 'district': 'White Field', 'postalCode': '560066'}, 'position': {'lat': 12.9897, 'lng': 77.72952}, 'access': [{'lat': 12.9897, 'lng': 77.72952}], 'distance': 3412, 'categories': [{'id': '100-1000-0000', 'name': 'Ресторани', 'primary': True}], 'foodTypes': [{'id': '800-067', 'name': 'Бюргери', 'primary': True}, {'id': '800-083', 'name': 'Страви здорові (з натуральних продуктів)'}], 'contacts': [{'phone': [{'value': '+917338110117'}]}]}, {'title': 'Inhouse Burger Kadubeesanahalli', 'id': 'here:pds:place:356tdr1x-ff71ecf5fff545479f49f279b9762683', 'resultType': 'place', 'address': {'label': 'Inhouse Burger Kadubeesanahalli, Marathahalli Sarjapur Road, Kadubeesanahalli, Bengaluru 560103, India', 'countryCode': 'IND', 'countryName': 'India', 'state': 'Karnataka', 'county': 'Bengaluru', 'city': 'Bengaluru', 'district': 'Kadubeesanahalli', 'street': 'Marathahalli Sarjapur Road', 'postalCode': '560103'}, 'position': {'lat': 12.9391, 'lng': 77.69522}, 'access': [{'lat': 12.93912, 'lng': 77.69519}], 'distance': 4567, 'categories': [{'id': '100-1000-0000', 'name': 'Ресторани', 'primary': True}], 'contacts': [{'phone': [{'value': '+917337888333'}]}]}]}\n"
    }
   ],
   "source": [
    "r = requests.get(url = URL, params = PARAMS) \n",
    "data = r.json()\n",
    "#print(data)"
   ]
  },
  {
   "cell_type": "code",
   "execution_count": null,
   "metadata": {},
   "outputs": [],
   "source": []
  }
 ]
}