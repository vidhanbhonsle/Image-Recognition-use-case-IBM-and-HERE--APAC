{
 "metadata": {
  "language_info": {
   "codemirror_mode": {
    "name": "ipython",
    "version": 3
   },
   "file_extension": ".py",
   "mimetype": "text/x-python",
   "name": "python",
   "nbconvert_exporter": "python",
   "pygments_lexer": "ipython3",
   "version": 3
  },
  "orig_nbformat": 2,
  "kernelspec": {
   "name": "python_defaultSpec_1595684959134",
   "display_name": "Python 3.7.4 64-bit ('base': conda)"
  }
 },
 "nbformat": 4,
 "nbformat_minor": 2,
 "cells": [
  {
   "cell_type": "markdown",
   "metadata": {},
   "source": [
    "# Importing libraries\n",
    "# pip install --upgrade \"ibm-watson>=4.0.1\""
   ]
  },
  {
   "cell_type": "code",
   "execution_count": null,
   "metadata": {},
   "outputs": [],
   "source": [
    "import json\n",
    "from ibm_watson import VisualRecognitionV3\n",
    "from ibm_cloud_sdk_core.authenticators import IAMAuthenticator"
   ]
  },
  {
   "cell_type": "markdown",
   "metadata": {},
   "source": [
    "# Passing API KEY and URL to the Visual Recognition"
   ]
  },
  {
   "cell_type": "code",
   "execution_count": 4,
   "metadata": {},
   "outputs": [],
   "source": [
    "authenticator = IAMAuthenticator('ucOQSB8NlmiBmYcov75r-uvpFDQs8HcFH5BzrR-d71ws')\n",
    "\n",
    "visual_recognition = VisualRecognitionV3(\n",
    "    version='2018-03-19',\n",
    "    authenticator=authenticator)\n",
    "\n",
    "visual_recognition.set_service_url('https://api.us-south.visual-recognition.watson.cloud.ibm.com/instances/83a8725c-1263-4e39-a1e6-0541f4de6932') "
   ]
  },
  {
   "cell_type": "markdown",
   "metadata": {},
   "source": [
    "# Running the Visual Recognition on test.img file"
   ]
  },
  {
   "cell_type": "code",
   "execution_count": 14,
   "metadata": {
    "tags": []
   },
   "outputs": [],
   "source": [
    "with open('./test.jpg', 'rb') as images_file: \n",
    "    classes = visual_recognition.classify(images_file=images_file,threshold='0.6',classifier_ids='food').get_result()\n",
    "\n",
    "#print(json.dumps(classes, indent=2))\t"
   ]
  },
  {
   "cell_type": "code",
   "execution_count": 15,
   "metadata": {
    "tags": []
   },
   "outputs": [
    {
     "output_type": "stream",
     "name": "stdout",
     "text": "pizza\n"
    }
   ],
   "source": [
    "output_query = classes['images'][0]['classifiers'][0]['classes'][1]['class']\n",
    "print(output_query)"
   ]
  },
  {
   "cell_type": "markdown",
   "metadata": {},
   "source": [
    "# Passing 'pizza' to the HERE APIs using Python Flask"
   ]
  },
  {
   "cell_type": "code",
   "execution_count": 16,
   "metadata": {},
   "outputs": [],
   "source": [
    "import requests\n",
    "from flask import Flask,render_template\n",
    "URL = \"https://discover.search.hereapi.com/v1/discover\"\n",
    "latitude = 12.959111\n",
    "longitude = 77.732022\n",
    "api_key = 'PLf2S21N3UyP7R8SDiWyRjAHCFdJWdE3asNXvqnsImw' # Acquire from developer.here.com\n",
    "limit = 5"
   ]
  },
  {
   "cell_type": "code",
   "execution_count": null,
   "metadata": {},
   "outputs": [],
   "source": []
  }
 ]
}