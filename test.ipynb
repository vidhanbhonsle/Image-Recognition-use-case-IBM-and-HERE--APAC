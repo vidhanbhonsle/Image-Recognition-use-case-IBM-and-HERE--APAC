{
 "metadata": {
  "language_info": {
   "codemirror_mode": {
    "name": "ipython",
    "version": 3
   },
   "file_extension": ".py",
   "mimetype": "text/x-python",
   "name": "python",
   "nbconvert_exporter": "python",
   "pygments_lexer": "ipython3",
   "version": 3
  },
  "orig_nbformat": 2,
  "kernelspec": {
   "name": "python_defaultSpec_1595702022504",
   "display_name": "Python 3.7.4 64-bit ('base': conda)"
  }
 },
 "nbformat": 4,
 "nbformat_minor": 2,
 "cells": [
  {
   "cell_type": "markdown",
   "metadata": {},
   "source": [
    "# Importing libraries"
   ]
  },
  {
   "cell_type": "code",
   "execution_count": null,
   "metadata": {},
   "outputs": [],
   "source": [
    "# pip install --upgrade \"ibm-watson>=4.0.1\""
   ]
  },
  {
   "cell_type": "code",
   "execution_count": 19,
   "metadata": {},
   "outputs": [],
   "source": [
    "import json\n",
    "from ibm_watson import VisualRecognitionV3\n",
    "from ibm_cloud_sdk_core.authenticators import IAMAuthenticator"
   ]
  },
  {
   "cell_type": "markdown",
   "metadata": {},
   "source": [
    "# Passing API KEY and URL to the Visual Recognition"
   ]
  },
  {
   "cell_type": "code",
   "execution_count": 20,
   "metadata": {},
   "outputs": [],
   "source": [
    "authenticator = IAMAuthenticator('ucOQSB8NlmiBmYcov75r-uvpFDQs8HcFH5BzrR-d71ws')\n",
    "\n",
    "visual_recognition = VisualRecognitionV3(\n",
    "    version='2018-03-19',\n",
    "    authenticator=authenticator)\n",
    "\n",
    "visual_recognition.set_service_url('https://api.us-south.visual-recognition.watson.cloud.ibm.com/instances/83a8725c-1263-4e39-a1e6-0541f4de6932') "
   ]
  },
  {
   "cell_type": "markdown",
   "metadata": {},
   "source": [
    "# Running the Visual Recognition on test.img file"
   ]
  },
  {
   "cell_type": "code",
   "execution_count": 21,
   "metadata": {
    "tags": []
   },
   "outputs": [],
   "source": [
    "with open('./test.jpg', 'rb') as images_file: \n",
    "    classes = visual_recognition.classify(images_file=images_file,threshold='0.6',classifier_ids='food').get_result()\n",
    "\n",
    "#print(json.dumps(classes, indent=2))\t"
   ]
  },
  {
   "cell_type": "markdown",
   "metadata": {},
   "source": [
    "# Parsing JSON and defining location"
   ]
  },
  {
   "cell_type": "code",
   "execution_count": 22,
   "metadata": {
    "tags": []
   },
   "outputs": [
    {
     "output_type": "stream",
     "name": "stdout",
     "text": "pizza\n"
    }
   ],
   "source": [
    "output_query = classes['images'][0]['classifiers'][0]['classes'][1]['class']\n",
    "#print(output_query)\n",
    "latitude = 12.959111\n",
    "longitude = 77.732022"
   ]
  },
  {
   "cell_type": "markdown",
   "metadata": {},
   "source": [
    "# Creating Flask App to call HTML page"
   ]
  },
  {
   "cell_type": "code",
   "execution_count": 24,
   "metadata": {
    "tags": []
   },
   "outputs": [
    {
     "output_type": "stream",
     "name": "stdout",
     "text": "* Serving Flask app \"__main__\" (lazy loading)\n * Environment: production\n   WARNING: This is a development server. Do not use it in a production deployment.\n   Use a production WSGI server instead.\n * Debug mode: off\n * Running on http://127.0.0.1:5000/ (Press CTRL+C to quit)\n127.0.0.1 - - [26/Jul/2020 00:06:46] \"GET / HTTP/1.1\" 200 -\n127.0.0.1 - - [26/Jul/2020 00:07:33] \"GET / HTTP/1.1\" 200 -\n"
    }
   ],
   "source": [
    "from flask import Flask,render_template\n",
    "\n",
    "app = Flask(__name__)\n",
    "@app.route('/')\n",
    "\n",
    "def map_func():\n",
    "\treturn render_template('map.html',\n",
    "                            latitude = latitude,\n",
    "                            longitude = longitude,\n",
    "                            output_query=output_query\n",
    "                            )\n",
    "\n",
    "if __name__ == '__main__':\n",
    "\tapp.run(debug = False)"
   ]
  }
 ]
}