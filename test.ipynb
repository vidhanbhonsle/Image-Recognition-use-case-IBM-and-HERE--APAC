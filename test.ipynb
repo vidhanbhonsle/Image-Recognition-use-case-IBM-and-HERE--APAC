{
 "metadata": {
  "language_info": {
   "codemirror_mode": {
    "name": "ipython",
    "version": 3
   },
   "file_extension": ".py",
   "mimetype": "text/x-python",
   "name": "python",
   "nbconvert_exporter": "python",
   "pygments_lexer": "ipython3",
   "version": 3
  },
  "orig_nbformat": 2,
  "kernelspec": {
   "name": "python_defaultSpec_1595687092329",
   "display_name": "Python 3.7.4 64-bit ('base': conda)"
  }
 },
 "nbformat": 4,
 "nbformat_minor": 2,
 "cells": [
  {
   "cell_type": "markdown",
   "metadata": {},
   "source": [
    "# Importing libraries"
   ]
  },
  {
   "cell_type": "code",
   "execution_count": 2,
   "metadata": {},
   "outputs": [],
   "source": [
    "# pip install --upgrade \"ibm-watson>=4.0.1\""
   ]
  },
  {
   "cell_type": "code",
   "execution_count": 16,
   "metadata": {},
   "outputs": [],
   "source": [
    "import json\n",
    "from ibm_watson import VisualRecognitionV3\n",
    "from ibm_cloud_sdk_core.authenticators import IAMAuthenticator"
   ]
  },
  {
   "cell_type": "markdown",
   "metadata": {},
   "source": [
    "# Passing API KEY and URL to the Visual Recognition"
   ]
  },
  {
   "cell_type": "code",
   "execution_count": 18,
   "metadata": {},
   "outputs": [],
   "source": [
    "authenticator = IAMAuthenticator('ucOQSB8NlmiBmYcov75r-uvpFDQs8HcFH5BzrR-d71ws')\n",
    "\n",
    "visual_recognition = VisualRecognitionV3(\n",
    "    version='2018-03-19',\n",
    "    authenticator=authenticator)\n",
    "\n",
    "visual_recognition.set_service_url('https://api.us-south.visual-recognition.watson.cloud.ibm.com/instances/83a8725c-1263-4e39-a1e6-0541f4de6932') "
   ]
  },
  {
   "cell_type": "markdown",
   "metadata": {},
   "source": [
    "# Running the Visual Recognition on test.img file"
   ]
  },
  {
   "cell_type": "code",
   "execution_count": 19,
   "metadata": {
    "tags": []
   },
   "outputs": [],
   "source": [
    "with open('./test.jpg', 'rb') as images_file: \n",
    "    classes = visual_recognition.classify(images_file=images_file,threshold='0.6',classifier_ids='food').get_result()\n",
    "\n",
    "#print(json.dumps(classes, indent=2))\t"
   ]
  },
  {
   "cell_type": "markdown",
   "metadata": {},
   "source": [
    "# Parsing JSON"
   ]
  },
  {
   "cell_type": "code",
   "execution_count": 20,
   "metadata": {
    "tags": []
   },
   "outputs": [
    {
     "output_type": "stream",
     "name": "stdout",
     "text": "pizza\n"
    }
   ],
   "source": [
    "output_query = classes['images'][0]['classifiers'][0]['classes'][1]['class']\n",
    "print(output_query)"
   ]
  },
  {
   "cell_type": "markdown",
   "metadata": {},
   "source": [
    "# Passing 'pizza' to the HERE APIs using Python Flask"
   ]
  },
  {
   "cell_type": "code",
   "execution_count": 21,
   "metadata": {},
   "outputs": [],
   "source": [
    "import requests\n",
    "from flask import Flask,render_template\n",
    "URL = \"https://discover.search.hereapi.com/v1/discover\"\n",
    "latitude = 12.959111\n",
    "longitude = 77.732022\n",
    "api_key = 'eJtOWcz0rG2MovFXxmEZOBji86azNK035at5rNDx5xg' # Acquire from developer.here.com\n",
    "limit = 5"
   ]
  },
  {
   "cell_type": "markdown",
   "metadata": {},
   "source": [
    "# Parameters for Geocoding and Search APIs Discover endpoint"
   ]
  },
  {
   "cell_type": "code",
   "execution_count": 22,
   "metadata": {},
   "outputs": [],
   "source": [
    "PARAMS = {\n",
    "            'apikey':api_key,\n",
    "            'q':output_query,\n",
    "            'limit': limit,\n",
    "            'at':'{},{}'.format(latitude,longitude)\n",
    "         } "
   ]
  },
  {
   "cell_type": "markdown",
   "metadata": {},
   "source": [
    "# Sending get request and saving the response as response object "
   ]
  },
  {
   "cell_type": "code",
   "execution_count": 23,
   "metadata": {
    "tags": []
   },
   "outputs": [],
   "source": [
    "r = requests.get(url = URL, params = PARAMS) \n",
    "data = r.json()\n",
    "#print(data)"
   ]
  },
  {
   "cell_type": "code",
   "execution_count": 24,
   "metadata": {
    "tags": []
   },
   "outputs": [],
   "source": [
    "placeOne = data['items'][0]['title']\n",
    "placeOne_address =  data['items'][0]['address']['label']\n",
    "placeOne_latitude = data['items'][0]['position']['lat']\n",
    "placeOne_longitude = data['items'][0]['position']['lng']\n",
    "\n",
    "#print('place 1 -',placeOne)\n",
    "#print(placeOne_address)\n",
    "#print(placeOne_latitude)\n",
    "#print(placeOne_longitude)\n",
    "\n",
    "placeTwo = data['items'][1]['title']\n",
    "placeTwo_address =  data['items'][1]['address']['label']\n",
    "placeTwo_latitude = data['items'][1]['position']['lat']\n",
    "placeTwo_longitude = data['items'][1]['position']['lng']\n",
    "\n",
    "#print('place 2 -',placeTwo)\n",
    "#print(placeTwo_address)\n",
    "#print(placeTwo_latitude)\n",
    "#print(placeTwo_longitude)\n",
    "\n",
    "placeThree = data['items'][2]['title']\n",
    "placeThree_address =  data['items'][2]['address']['label']\n",
    "placeThree_latitude = data['items'][2]['position']['lat']\n",
    "placeThree_longitude = data['items'][2]['position']['lng']\n",
    "\n",
    "#print('place 3 -',placeThree)\n",
    "#print(placeThree_address)\n",
    "#print(placeThree_latitude)\n",
    "#print(placeThree_longitude)\n",
    "\n",
    "placeFour = data['items'][3]['title']\n",
    "placeFour_address =  data['items'][3]['address']['label']\n",
    "placeFour_latitude = data['items'][3]['position']['lat']\n",
    "placeFour_longitude = data['items'][3]['position']['lng']\n",
    "\n",
    "#print('place 4 -',placeFour)\n",
    "#print(placeFour_address)\n",
    "#print(placeFour_latitude)\n",
    "#print(placeFour_longitude)\n",
    "\n",
    "placeFive = data['items'][4]['title']\n",
    "placeFive_address =  data['items'][4]['address']['label']\n",
    "placeFive_latitude = data['items'][4]['position']['lat']\n",
    "placeFive_longitude = data['items'][4]['position']['lng']\n",
    "\n",
    "#print('place 5 -',placeFive)\n",
    "#print(placeFive_address)\n",
    "#print(placeFive_latitude)\n",
    "#print(placeFive_longitude)"
   ]
  },
  {
   "cell_type": "code",
   "execution_count": 25,
   "metadata": {
    "tags": []
   },
   "outputs": [
    {
     "output_type": "stream",
     "name": "stdout",
     "text": "* Serving Flask app \"__main__\" (lazy loading)\n * Environment: production\n   WARNING: This is a development server. Do not use it in a production deployment.\n   Use a production WSGI server instead.\n * Debug mode: off\n * Running on http://127.0.0.1:5000/ (Press CTRL+C to quit)\n127.0.0.1 - - [25/Jul/2020 20:01:24] \"GET / HTTP/1.1\" 200 -\n127.0.0.1 - - [25/Jul/2020 20:02:42] \"GET / HTTP/1.1\" 200 -\n"
    }
   ],
   "source": [
    "app = Flask(__name__)\n",
    "@app.route('/')\n",
    "\n",
    "def map_func():\n",
    "\treturn render_template('map.html',\n",
    "                            latitude = latitude,\n",
    "                            longitude = longitude,\n",
    "                            apikey=api_key,\n",
    "                            oneName=placeOne,\n",
    "                            OneAddress=placeOne_address,\n",
    "                            oneLatitude=placeOne_latitude,\n",
    "                            oneLongitude=placeOne_longitude,\n",
    "                            twoName=placeTwo,\n",
    "                            twoAddress=placeTwo_address,\n",
    "                            twoLatitude=placeTwo_latitude,\n",
    "                            twoLongitude=placeTwo_longitude,\n",
    "                            threeName=placeThree,\n",
    "                            threeAddress=placeThree_address,\n",
    "                            threeLatitude=placeThree_latitude,\n",
    "                            threeLongitude=placeThree_longitude,\n",
    "                            fourName=placeFour,\t\t\n",
    "                            fourAddress=placeFour_address,\n",
    "                            fourLatitude=placeFour_latitude,\n",
    "                            fourLongitude=placeFour_longitude,\n",
    "                            fiveName=placeFive,\t\t\n",
    "                            fiveAddress=placeFive_address,\n",
    "                            fiveLatitude=placeFive_latitude,\n",
    "                            fiveLongitude=placeFive_longitude\n",
    "                            )\n",
    "\n",
    "if __name__ == '__main__':\n",
    "\tapp.run(debug = False)"
   ]
  }
 ]
}